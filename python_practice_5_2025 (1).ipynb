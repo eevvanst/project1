{
  "nbformat": 4,
  "nbformat_minor": 0,
  "metadata": {
    "colab": {
      "provenance": []
    },
    "kernelspec": {
      "name": "python3",
      "display_name": "Python 3"
    },
    "language_info": {
      "name": "python"
    }
  },
  "cells": [
    {
      "cell_type": "markdown",
      "source": [
        "# I. OOP"
      ],
      "metadata": {
        "id": "5qV_sehzFCTp"
      }
    },
    {
      "cell_type": "markdown",
      "source": [
        "1. (6б). Створіть клас Building, додайте три атрибути, один з яких має значення за замовчуванням та два методи на свій розсуд."
      ],
      "metadata": {
        "id": "tx_U_hOALyfg"
      }
    },
    {
      "cell_type": "code",
      "source": [
        "class Building:\n",
        "    def __init__(self, name, floors, material=\"бетон\"):\n",
        "        self.name = name\n",
        "        self.floors = floors\n",
        "        self.material = material\n",
        "\n",
        "    def describe(self):\n",
        "        print(f\"Будівля '{self.name}' має {self.floors} поверхів і побудована з {self.material}.\")\n",
        "\n",
        "    def is_skyscraper(self):\n",
        "        return self.floors > 40\n"
      ],
      "metadata": {
        "id": "-Vf895KaL88N"
      },
      "execution_count": 1,
      "outputs": []
    },
    {
      "cell_type": "markdown",
      "source": [
        "2. (2б). Створіть два обʼєкти цього класу, де один з обʼєктів створюється із дефолтним значенням атрибуту. На одному обʼєкті отримайте значення його атрибуту, а на іншому викличте один з його методів."
      ],
      "metadata": {
        "id": "X_UlOMB0L93w"
      }
    },
    {
      "cell_type": "code",
      "source": [
        "class Building:\n",
        "    def __init__(self, name, floors, material=\"бетон\"):\n",
        "        self.name = name\n",
        "        self.floors = floors\n",
        "        self.material = material\n",
        "\n",
        "    def describe(self):\n",
        "        print(f\"Будівля '{self.name}' має {self.floors} поверхів і побудована з {self.material}.\")\n",
        "\n",
        "    def is_skyscraper(self):\n",
        "        return self.floors > 40\n",
        "\n",
        "\n",
        "building1 = Building(\"City Center\", 25)\n",
        "building2 = Building(\"Glass Tower\", 50, \"скло\")\n",
        "\n",
        "print(\"Матеріал будівлі 1:\", building1.material)\n",
        "\n",
        "building2.describe()\n"
      ],
      "metadata": {
        "id": "7gBu0ESOMCpG",
        "colab": {
          "base_uri": "https://localhost:8080/"
        },
        "outputId": "3c4fc869-8f56-457f-92da-26e05099f970"
      },
      "execution_count": 2,
      "outputs": [
        {
          "output_type": "stream",
          "name": "stdout",
          "text": [
            "Матеріал будівлі 1: бетон\n",
            "Будівля 'Glass Tower' має 50 поверхів і побудована з скло.\n"
          ]
        }
      ]
    },
    {
      "cell_type": "markdown",
      "source": [
        "3. (5б). Створіть клас, де атрибути мають різні рівні доступу. Спробуйте отримати їхні значення та опишіть результати."
      ],
      "metadata": {
        "id": "HoqSCZt1MHn5"
      }
    },
    {
      "cell_type": "code",
      "source": [
        "class Building:\n",
        "    def __init__(self, name, floors, code):\n",
        "        self.name = name              # публічний атрибут\n",
        "        self._floors = floors         # захищений атрибут\n",
        "        self.__security_code = code  # приватний атрибут\n",
        "\n",
        "    def get_security_code(self):\n",
        "        return self.__security_code\n",
        "\n",
        "\n",
        "b = Building(\"Secret Base\", 5, \"XYZ123\")\n",
        "\n",
        "print(\"Назва:\", b.name)\n",
        "\n",
        "print(\"Поверхів:\", b._floors)\n",
        "\n",
        "try:\n",
        "    print(\"Код доступу:\", b.__security_code)\n",
        "except AttributeError as e:\n",
        "    print(\"Помилка:\", e)\n",
        "\n",
        "print(\"Код доступу через метод:\", b.get_security_code())\n",
        "\n",
        "print(\"Код доступу (через name mangling):\", b._Building__security_code)\n"
      ],
      "metadata": {
        "id": "r9b3vJxBMSPV",
        "colab": {
          "base_uri": "https://localhost:8080/"
        },
        "outputId": "4854dfa5-bd13-403a-c20c-fd71ea52d92f"
      },
      "execution_count": 3,
      "outputs": [
        {
          "output_type": "stream",
          "name": "stdout",
          "text": [
            "Назва: Secret Base\n",
            "Поверхів: 5\n",
            "Помилка: 'Building' object has no attribute '__security_code'\n",
            "Код доступу через метод: XYZ123\n",
            "Код доступу (через name mangling): XYZ123\n"
          ]
        }
      ]
    },
    {
      "cell_type": "markdown",
      "source": [
        "4. (7б). Як ви розумієте термін self? Для чого використовується метод __init __?"
      ],
      "metadata": {
        "id": "5op2m2vgMSkZ"
      }
    },
    {
      "cell_type": "markdown",
      "source": [
        "self\n",
        "Це посилання на поточний обʼєкт.\n",
        "Дає доступ до атрибутів і методів класу.\n",
        "__init__\n",
        "Це конструктор.\n",
        "Викликається автоматично при створенні обʼєкта."
      ],
      "metadata": {
        "id": "DyiPqNRvMasx"
      }
    },
    {
      "cell_type": "markdown",
      "source": [
        "5. (9б). Створіть клас 3D-фігура без атрибутів, з методом get_volume для отримання об'єму фігури, що повертає 0 та __add __, який приймає self та other в якості аргументів, а повертає суму об'ємів 3d-фігур self та other."
      ],
      "metadata": {
        "id": "-6X8EGfjMd2y"
      }
    },
    {
      "cell_type": "code",
      "source": [
        "class Figure3D:\n",
        "    def get_volume(self):\n",
        "        return 0\n",
        "\n",
        "    def __add__(self, other):\n",
        "        return self.get_volume() + other.get_volume()\n"
      ],
      "metadata": {
        "id": "4rvO_wYUMaEr"
      },
      "execution_count": 4,
      "outputs": []
    },
    {
      "cell_type": "markdown",
      "source": [
        "6. (11б). Створіть 2 дочірніх класи від 3d-фігура: Циліндр та Куб, які мають атрибути, необхідні для розрахунку об'єму. Визначте метод get_volume в кожному з них так, щоби вони розраховували об'єм у залежності від формули для кожного типу фігури. Створіть обʼєкт класу Циліндр та обʼєкт класу Куб. Виконайте операцію суми за допомогою оператора + між ними, аби знайти сумарний об'єм."
      ],
      "metadata": {
        "id": "SFcKnnv5Mo_z"
      }
    },
    {
      "cell_type": "code",
      "source": [
        "import math\n",
        "\n",
        "class Figure3D:\n",
        "    def get_volume(self):\n",
        "        return 0\n",
        "\n",
        "    def __add__(self, other):\n",
        "        return self.get_volume() + other.get_volume()\n",
        "\n",
        "\n",
        "class Cylinder(Figure3D):\n",
        "    def __init__(self, radius, height):\n",
        "        self.radius = radius\n",
        "        self.height = height\n",
        "\n",
        "    def get_volume(self):\n",
        "        return math.pi * self.radius ** 2 * self.height\n",
        "\n",
        "\n",
        "class Cube(Figure3D):\n",
        "    def __init__(self, side):\n",
        "        self.side = side\n",
        "\n",
        "    def get_volume(self):\n",
        "        return self.side ** 3\n"
      ],
      "metadata": {
        "id": "H3GVNr69Muf3"
      },
      "execution_count": null,
      "outputs": []
    },
    {
      "cell_type": "markdown",
      "source": [
        "7. (3б). Продемонструйте різницю між isinstance та issubclass."
      ],
      "metadata": {
        "id": "HCvR206YMvLK"
      }
    },
    {
      "cell_type": "code",
      "source": [
        "class Figure3D:\n",
        "    pass\n",
        "\n",
        "class Cube(Figure3D):\n",
        "    pass\n",
        "\n",
        "cube = Cube()\n",
        "\n",
        "# isinstance\n",
        "print(isinstance(cube, Cube))       # True\n",
        "print(isinstance(cube, Figure3D))   # True\n",
        "print(isinstance(cube, object))     # True\n",
        "\n",
        "# issubclass\n",
        "print(issubclass(Cube, Figure3D))   # True\n",
        "print(issubclass(Cube, object))     # True\n",
        "print(issubclass(Figure3D, Cube))   # False\n"
      ],
      "metadata": {
        "id": "L_V1bBvDM0GN",
        "colab": {
          "base_uri": "https://localhost:8080/"
        },
        "outputId": "f3bb7e76-8cb4-4e4e-af10-605fed06b8d3"
      },
      "execution_count": 5,
      "outputs": [
        {
          "output_type": "stream",
          "name": "stdout",
          "text": [
            "True\n",
            "True\n",
            "True\n",
            "True\n",
            "True\n",
            "False\n"
          ]
        }
      ]
    },
    {
      "cell_type": "markdown",
      "source": [
        "8. (13б). Створіть клас EWallet з приватними атрибутами balance та id. Реалізуйте методи поповнення та зняття коштів, забезпечивши належну інкапсуляцію. Підказка: використовуйте декоратори property та setter."
      ],
      "metadata": {
        "id": "jjsaBZ-iM0Qq"
      }
    },
    {
      "cell_type": "code",
      "source": [
        "class EWallet:\n",
        "    def __init__(self, wallet_id, initial_balance=0):\n",
        "        self.__id = wallet_id\n",
        "        self.__balance = initial_balance\n",
        "\n",
        "    # Декоратор property для отримання балансу\n",
        "    @property\n",
        "    def balance(self):\n",
        "        return self.__balance\n",
        "\n",
        "    # Декоратор setter для зміни балансу\n",
        "    @balance.setter\n",
        "    def balance(self, amount):\n",
        "        if amount < 0:\n",
        "            print(\"Невірна сума! Баланс не може бути від'ємним.\")\n",
        "        else:\n",
        "            self.__balance = amount\n",
        "\n",
        "    # Метод поповнення коштів\n",
        "    def deposit(self, amount):\n",
        "        if amount <= 0:\n",
        "            print(\"Поповнення має бути більше нуля.\")\n",
        "        else:\n",
        "            self.balance += amount\n",
        "            print(f\"Поповнення на {amount}. Баланс: {self.balance}\")\n",
        "\n",
        "    # Метод зняття коштів\n",
        "    def withdraw(self, amount):\n",
        "        if amount <= 0:\n",
        "            print(\"Сума для зняття має бути більше нуля.\")\n",
        "        elif amount > self.__balance:\n",
        "            print(\"Недостатньо коштів на рахунку.\")\n",
        "        else:\n",
        "            self.balance -= amount\n",
        "            print(f\"Зняття {amount}. Баланс: {self.balance}\")\n",
        "\n",
        "    # Декоратор property для отримання ID гаманця\n",
        "    @property\n",
        "    def wallet_id(self):\n",
        "        return self.__id\n"
      ],
      "metadata": {
        "id": "xCvZ7lh8M7YA"
      },
      "execution_count": null,
      "outputs": []
    },
    {
      "cell_type": "markdown",
      "source": [
        "9. (11б). Створіть клас ShoppingCart, який містить список об'єктів типу Item. Реалізуйте методи для додавання айтемів, їх видалення та відображення списку айтемів."
      ],
      "metadata": {
        "id": "tIzL2SJTM8ft"
      }
    },
    {
      "cell_type": "code",
      "source": [
        "class Item:\n",
        "    def __init__(self, name, price, quantity=1):\n",
        "        self.name = name\n",
        "        self.price = price\n",
        "        self.quantity = quantity\n",
        "\n",
        "    def __str__(self):\n",
        "        return f\"{self.name} - ${self.price} x{self.quantity}\"\n",
        "\n",
        "class ShoppingCart:\n",
        "    def __init__(self):\n",
        "        self.items = []\n",
        "\n",
        "    # Метод для додавання айтему\n",
        "    def add_item(self, item):\n",
        "        self.items.append(item)\n",
        "\n",
        "    # Метод для видалення айтему\n",
        "    def remove_item(self, item_name):\n",
        "        for item in self.items:\n",
        "            if item.name == item_name:\n",
        "                self.items.remove(item)\n",
        "                return f\"'{item_name}' було видалено з кошика.\"\n",
        "        return f\"'{item_name}' не знайдено в кошику.\"\n",
        "\n",
        "    # Метод для відображення всіх айтемів у кошику\n",
        "    def show_items(self):\n",
        "        if not self.items:\n",
        "            return \"Кошик порожній.\"\n",
        "        return \"\\n\".join(str(item) for item in self.items)\n",
        "\n",
        "    # Метод для обчислення загальної вартості\n",
        "    def total_price(self):\n",
        "        return sum(item.price * item.quantity for item in self.items)\n"
      ],
      "metadata": {
        "id": "HWxfJKLtNAUZ"
      },
      "execution_count": null,
      "outputs": []
    },
    {
      "cell_type": "markdown",
      "source": [
        "10. (13б). Створіть клас Vehicle з атрибутами brand (manufacturer) та production_age. Створіть ще один клас Engine з такими атрибутами, як type (ex. petrol) та size (volume, litres). Створіть клас Car, який успадковує обидва класи Vehicle та Engine. Продемонструйте використання множинної спадковості, створивши обʼєкт класу Car та отримавши mro для цього класу."
      ],
      "metadata": {
        "id": "lmV8pAwwNIqu"
      }
    },
    {
      "cell_type": "code",
      "source": [
        "# Клас Vehicle\n",
        "class Vehicle:\n",
        "    def __init__(self, brand, production_age):\n",
        "        self.brand = brand\n",
        "        self.production_age = production_age\n",
        "\n",
        "    def display_info(self):\n",
        "        return f\"Vehicle Brand: {self.brand}, Age: {self.production_age} years\"\n",
        "\n",
        "\n",
        "# Клас Engine\n",
        "class Engine:\n",
        "    def __init__(self, engine_type, size):\n",
        "        self.engine_type = engine_type\n",
        "        self.size = size\n",
        "\n",
        "    def display_engine_info(self):\n",
        "        return f\"Engine Type: {self.engine_type}, Size: {self.size}L\"\n",
        "\n",
        "\n",
        "# Клас Car, який успадковує Vehicle та Engine\n",
        "class Car(Vehicle, Engine):\n",
        "    def __init__(self, brand, production_age, engine_type, size):\n",
        "        Vehicle.__init__(self, brand, production_age)\n",
        "        Engine.__init__(self, engine_type, size)\n",
        "\n",
        "    def display_car_info(self):\n",
        "        return f\"{self.display_info()}, {self.display_engine_info()}\"\n",
        "\n",
        "\n",
        "car = Car(\"Toyota\", 5, \"Petrol\", 1.8)\n",
        "\n",
        "print(car.display_car_info())\n",
        "\n",
        "print(\"\\nMRO для класу Car:\", Car.__mro__)\n"
      ],
      "metadata": {
        "id": "R49grKlWNPeN"
      },
      "execution_count": null,
      "outputs": []
    },
    {
      "cell_type": "markdown",
      "source": [
        "# II. Iterator"
      ],
      "metadata": {
        "id": "dIJyUiNBFG8G"
      }
    },
    {
      "cell_type": "markdown",
      "source": [
        "11. (4б). Визначте рядок(str) з 4ма різними за значенням символами. Створіть ітератор на основі цього рядка. Викличте 5 разів функцію next на ітераторі, 4ри перших з них огорніть у ф-цію print()."
      ],
      "metadata": {
        "id": "13vsm0NyKIzL"
      }
    },
    {
      "cell_type": "code",
      "source": [
        "my_string = \"abcd\"\n",
        "\n",
        "iterator = iter(my_string)\n",
        "\n",
        "print(next(iterator))\n",
        "print(next(iterator))\n",
        "print(next(iterator))\n",
        "print(next(iterator))\n",
        "\n",
        "try:\n",
        "    print(next(iterator))\n",
        "except StopIteration:\n",
        "    print(\"Ітератор завершився.\")\n"
      ],
      "metadata": {
        "id": "81ntabAkKuz-",
        "colab": {
          "base_uri": "https://localhost:8080/"
        },
        "outputId": "eebf931d-0f2d-43c1-dd3a-c97e45b923a4"
      },
      "execution_count": 6,
      "outputs": [
        {
          "output_type": "stream",
          "name": "stdout",
          "text": [
            "a\n",
            "b\n",
            "c\n",
            "d\n",
            "Ітератор завершився.\n"
          ]
        }
      ]
    },
    {
      "cell_type": "markdown",
      "source": [
        "А що якщо викликати цю ж функцію на рядку?"
      ],
      "metadata": {
        "id": "aekWHGXOLRsO"
      }
    },
    {
      "cell_type": "code",
      "source": [
        "my_string = \"abcd\"\n",
        "\n",
        "print(next(iter(my_string)))  # виводить 'a'\n",
        "print(next(iter(my_string)))  # виводить 'a' знову, тому що ми створюємо новий ітератор\n"
      ],
      "metadata": {
        "id": "mxATGsErLV1i",
        "colab": {
          "base_uri": "https://localhost:8080/"
        },
        "outputId": "ff65dee5-e859-4b1f-e982-dc694fc6f6ea"
      },
      "execution_count": 7,
      "outputs": [
        {
          "output_type": "stream",
          "name": "stdout",
          "text": [
            "a\n",
            "a\n"
          ]
        }
      ]
    },
    {
      "cell_type": "markdown",
      "source": [
        " 12. (5б). Опишіть своїми словами в одному реченні, як ви розумієте різницю між ітерабельними обʼєктами та ітераторами (можна на прикладі)."
      ],
      "metadata": {
        "id": "XwtMEopwJ4pH"
      }
    },
    {
      "cell_type": "markdown",
      "source": [
        "Ітерабельний об'єкт — це об'єкт, по якому можна пройтися за допомогою циклу (наприклад, список або рядок), а ітератор — це об'єкт, який підтримує методи `__iter__()` та `__next__()` для поетапного доступу до елементів, причому він запам'ятовує свою позицію в середині цього об'єкта (наприклад, ітератор для рядка)."
      ],
      "metadata": {
        "id": "-sHrODc3KFn8"
      }
    },
    {
      "cell_type": "markdown",
      "source": [
        "13. (11б). Створіть клас, що має визначений Iterator Protocol та при кожному виклику next повертає назву дня тижня, поки вони не вичерпаються. Зверніть увагу, що порядок має значення."
      ],
      "metadata": {
        "id": "E9qJWmNbK8Gl"
      }
    },
    {
      "cell_type": "code",
      "source": [
        "class WeekdaysIterator:\n",
        "    def __init__(self):\n",
        "        self.days_of_week = [\"Monday\", \"Tuesday\", \"Wednesday\", \"Thursday\", \"Friday\", \"Saturday\", \"Sunday\"]\n",
        "        self.index = 0\n",
        "\n",
        "    def __iter__(self):\n",
        "        return self\n",
        "\n",
        "    def __next__(self):\n",
        "        if self.index < len(self.days_of_week):\n",
        "            day = self.days_of_week[self.index]\n",
        "            self.index += 1\n",
        "            return day\n",
        "        else:\n",
        "            raise StopIteration\n",
        "\n",
        "weekdays = WeekdaysIterator()\n",
        "\n",
        "for day in weekdays:\n",
        "    print(day)\n"
      ],
      "metadata": {
        "id": "cqx-g_RsLo6I",
        "colab": {
          "base_uri": "https://localhost:8080/"
        },
        "outputId": "a986fd13-1c3e-4496-ecc9-f3996411d5e4"
      },
      "execution_count": 8,
      "outputs": [
        {
          "output_type": "stream",
          "name": "stdout",
          "text": [
            "Monday\n",
            "Tuesday\n",
            "Wednesday\n",
            "Thursday\n",
            "Friday\n",
            "Saturday\n",
            "Sunday\n"
          ]
        }
      ]
    },
    {
      "cell_type": "markdown",
      "source": [
        "# Вітаю! Ви велика(ий) молодець, що впоралась(вся). Похваліть себе та побалуйте чимось приємним. Я Вами пишаюся."
      ],
      "metadata": {
        "id": "Z3E3S_s1Fv7-"
      }
    }
  ]
}